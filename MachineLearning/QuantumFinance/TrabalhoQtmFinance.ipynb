{
 "cells": [
  {
   "cell_type": "code",
   "execution_count": 1,
   "metadata": {},
   "outputs": [
    {
     "name": "stderr",
     "output_type": "stream",
     "text": [
      "C:\\Users\\marco\\AppData\\Local\\Temp\\ipykernel_103596\\2162656668.py:1: DeprecationWarning: \n",
      "Pyarrow will become a required dependency of pandas in the next major release of pandas (pandas 3.0),\n",
      "(to allow more performant data types, such as the Arrow string type, and better interoperability with other libraries)\n",
      "but was not found to be installed on your system.\n",
      "If this would cause problems for you,\n",
      "please provide us feedback at https://github.com/pandas-dev/pandas/issues/54466\n",
      "        \n",
      "  import pandas as pd\n"
     ]
    }
   ],
   "source": [
    "import pandas as pd\n",
    "import numpy as np"
   ]
  },
  {
   "cell_type": "code",
   "execution_count": 2,
   "metadata": {},
   "outputs": [],
   "source": [
    "url = r'https://raw.githubusercontent.com/lcbjrrr/QuantumF/main/credit%20-%20ok.csv'\n",
    "\n",
    "df_credito = pd.read_csv(url)"
   ]
  },
  {
   "cell_type": "markdown",
   "metadata": {},
   "source": [
    "REALIZAREMOS ALGUMAS ANÁLISES DESCRITIVAS"
   ]
  },
  {
   "cell_type": "code",
   "execution_count": 3,
   "metadata": {},
   "outputs": [
    {
     "data": {
      "text/plain": [
       "ID                              0\n",
       "Customer_ID                     0\n",
       "Month                           0\n",
       "Name                         8322\n",
       "Age                             0\n",
       "SSN                             0\n",
       "Occupation                      0\n",
       "Annual_Income                   0\n",
       "Monthly_Inhand_Salary       12441\n",
       "Num_Bank_Accounts               0\n",
       "Num_Credit_Card                 0\n",
       "Interest_Rate                   0\n",
       "Num_of_Loan                     0\n",
       "Type_of_Loan                 9522\n",
       "Delay_from_due_date             0\n",
       "Num_of_Delayed_Payment       5805\n",
       "Changed_Credit_Limit            0\n",
       "Num_Credit_Inquiries         1616\n",
       "Credit_Mix                      0\n",
       "Outstanding_Debt                0\n",
       "Credit_Utilization_Ratio        0\n",
       "Credit_History_Age           7485\n",
       "Payment_of_Min_Amount           0\n",
       "Total_EMI_per_month             0\n",
       "Amount_invested_monthly      3689\n",
       "Payment_Behaviour               0\n",
       "Monthly_Balance              1019\n",
       "Credit_Score                    0\n",
       "dtype: int64"
      ]
     },
     "execution_count": 3,
     "metadata": {},
     "output_type": "execute_result"
    }
   ],
   "source": [
    "df_credito.isnull().sum()"
   ]
  },
  {
   "cell_type": "code",
   "execution_count": 4,
   "metadata": {},
   "outputs": [
    {
     "name": "stdout",
     "output_type": "stream",
     "text": [
      "<class 'pandas.core.frame.DataFrame'>\n",
      "RangeIndex: 83144 entries, 0 to 83143\n",
      "Data columns (total 28 columns):\n",
      " #   Column                    Non-Null Count  Dtype  \n",
      "---  ------                    --------------  -----  \n",
      " 0   ID                        83144 non-null  object \n",
      " 1   Customer_ID               83144 non-null  object \n",
      " 2   Month                     83144 non-null  object \n",
      " 3   Name                      74822 non-null  object \n",
      " 4   Age                       83144 non-null  object \n",
      " 5   SSN                       83144 non-null  object \n",
      " 6   Occupation                83144 non-null  object \n",
      " 7   Annual_Income             83144 non-null  object \n",
      " 8   Monthly_Inhand_Salary     70703 non-null  float64\n",
      " 9   Num_Bank_Accounts         83144 non-null  int64  \n",
      " 10  Num_Credit_Card           83144 non-null  int64  \n",
      " 11  Interest_Rate             83144 non-null  int64  \n",
      " 12  Num_of_Loan               83144 non-null  object \n",
      " 13  Type_of_Loan              73622 non-null  object \n",
      " 14  Delay_from_due_date       83144 non-null  int64  \n",
      " 15  Num_of_Delayed_Payment    77339 non-null  object \n",
      " 16  Changed_Credit_Limit      83144 non-null  object \n",
      " 17  Num_Credit_Inquiries      81528 non-null  float64\n",
      " 18  Credit_Mix                83144 non-null  object \n",
      " 19  Outstanding_Debt          83144 non-null  object \n",
      " 20  Credit_Utilization_Ratio  83144 non-null  float64\n",
      " 21  Credit_History_Age        75659 non-null  object \n",
      " 22  Payment_of_Min_Amount     83144 non-null  object \n",
      " 23  Total_EMI_per_month       83144 non-null  float64\n",
      " 24  Amount_invested_monthly   79455 non-null  object \n",
      " 25  Payment_Behaviour         83144 non-null  object \n",
      " 26  Monthly_Balance           82125 non-null  object \n",
      " 27  Credit_Score              83144 non-null  object \n",
      "dtypes: float64(4), int64(4), object(20)\n",
      "memory usage: 17.8+ MB\n"
     ]
    }
   ],
   "source": [
    "df_credito.info()"
   ]
  },
  {
   "cell_type": "code",
   "execution_count": 5,
   "metadata": {},
   "outputs": [
    {
     "data": {
      "text/html": [
       "<div>\n",
       "<style scoped>\n",
       "    .dataframe tbody tr th:only-of-type {\n",
       "        vertical-align: middle;\n",
       "    }\n",
       "\n",
       "    .dataframe tbody tr th {\n",
       "        vertical-align: top;\n",
       "    }\n",
       "\n",
       "    .dataframe thead th {\n",
       "        text-align: right;\n",
       "    }\n",
       "</style>\n",
       "<table border=\"1\" class=\"dataframe\">\n",
       "  <thead>\n",
       "    <tr style=\"text-align: right;\">\n",
       "      <th></th>\n",
       "      <th>Monthly_Inhand_Salary</th>\n",
       "      <th>Num_Bank_Accounts</th>\n",
       "      <th>Num_Credit_Card</th>\n",
       "      <th>Interest_Rate</th>\n",
       "      <th>Delay_from_due_date</th>\n",
       "      <th>Num_Credit_Inquiries</th>\n",
       "      <th>Credit_Utilization_Ratio</th>\n",
       "      <th>Total_EMI_per_month</th>\n",
       "    </tr>\n",
       "  </thead>\n",
       "  <tbody>\n",
       "    <tr>\n",
       "      <th>count</th>\n",
       "      <td>70703.000000</td>\n",
       "      <td>83144.000000</td>\n",
       "      <td>83144.000000</td>\n",
       "      <td>83144.000000</td>\n",
       "      <td>83144.000000</td>\n",
       "      <td>81528.000000</td>\n",
       "      <td>83144.000000</td>\n",
       "      <td>83144.000000</td>\n",
       "    </tr>\n",
       "    <tr>\n",
       "      <th>mean</th>\n",
       "      <td>4193.869821</td>\n",
       "      <td>16.924059</td>\n",
       "      <td>22.301309</td>\n",
       "      <td>73.209191</td>\n",
       "      <td>21.050382</td>\n",
       "      <td>27.681594</td>\n",
       "      <td>32.298935</td>\n",
       "      <td>1380.861140</td>\n",
       "    </tr>\n",
       "    <tr>\n",
       "      <th>std</th>\n",
       "      <td>3187.081513</td>\n",
       "      <td>116.875468</td>\n",
       "      <td>128.481073</td>\n",
       "      <td>470.881900</td>\n",
       "      <td>14.841171</td>\n",
       "      <td>192.442884</td>\n",
       "      <td>5.116523</td>\n",
       "      <td>8243.094161</td>\n",
       "    </tr>\n",
       "    <tr>\n",
       "      <th>min</th>\n",
       "      <td>319.556250</td>\n",
       "      <td>-1.000000</td>\n",
       "      <td>0.000000</td>\n",
       "      <td>1.000000</td>\n",
       "      <td>-5.000000</td>\n",
       "      <td>0.000000</td>\n",
       "      <td>20.000000</td>\n",
       "      <td>0.000000</td>\n",
       "    </tr>\n",
       "    <tr>\n",
       "      <th>25%</th>\n",
       "      <td>1629.773333</td>\n",
       "      <td>3.000000</td>\n",
       "      <td>4.000000</td>\n",
       "      <td>8.000000</td>\n",
       "      <td>10.000000</td>\n",
       "      <td>3.000000</td>\n",
       "      <td>28.063496</td>\n",
       "      <td>30.403233</td>\n",
       "    </tr>\n",
       "    <tr>\n",
       "      <th>50%</th>\n",
       "      <td>3081.977500</td>\n",
       "      <td>6.000000</td>\n",
       "      <td>6.000000</td>\n",
       "      <td>13.000000</td>\n",
       "      <td>18.000000</td>\n",
       "      <td>6.000000</td>\n",
       "      <td>32.333159</td>\n",
       "      <td>68.966090</td>\n",
       "    </tr>\n",
       "    <tr>\n",
       "      <th>75%</th>\n",
       "      <td>5947.320000</td>\n",
       "      <td>7.000000</td>\n",
       "      <td>7.000000</td>\n",
       "      <td>20.000000</td>\n",
       "      <td>28.000000</td>\n",
       "      <td>9.000000</td>\n",
       "      <td>36.517910</td>\n",
       "      <td>160.321434</td>\n",
       "    </tr>\n",
       "    <tr>\n",
       "      <th>max</th>\n",
       "      <td>15204.633330</td>\n",
       "      <td>1798.000000</td>\n",
       "      <td>1499.000000</td>\n",
       "      <td>5789.000000</td>\n",
       "      <td>67.000000</td>\n",
       "      <td>2597.000000</td>\n",
       "      <td>50.000000</td>\n",
       "      <td>82331.000000</td>\n",
       "    </tr>\n",
       "  </tbody>\n",
       "</table>\n",
       "</div>"
      ],
      "text/plain": [
       "       Monthly_Inhand_Salary  Num_Bank_Accounts  Num_Credit_Card  \\\n",
       "count           70703.000000       83144.000000     83144.000000   \n",
       "mean             4193.869821          16.924059        22.301309   \n",
       "std              3187.081513         116.875468       128.481073   \n",
       "min               319.556250          -1.000000         0.000000   \n",
       "25%              1629.773333           3.000000         4.000000   \n",
       "50%              3081.977500           6.000000         6.000000   \n",
       "75%              5947.320000           7.000000         7.000000   \n",
       "max             15204.633330        1798.000000      1499.000000   \n",
       "\n",
       "       Interest_Rate  Delay_from_due_date  Num_Credit_Inquiries  \\\n",
       "count   83144.000000         83144.000000          81528.000000   \n",
       "mean       73.209191            21.050382             27.681594   \n",
       "std       470.881900            14.841171            192.442884   \n",
       "min         1.000000            -5.000000              0.000000   \n",
       "25%         8.000000            10.000000              3.000000   \n",
       "50%        13.000000            18.000000              6.000000   \n",
       "75%        20.000000            28.000000              9.000000   \n",
       "max      5789.000000            67.000000           2597.000000   \n",
       "\n",
       "       Credit_Utilization_Ratio  Total_EMI_per_month  \n",
       "count              83144.000000         83144.000000  \n",
       "mean                  32.298935          1380.861140  \n",
       "std                    5.116523          8243.094161  \n",
       "min                   20.000000             0.000000  \n",
       "25%                   28.063496            30.403233  \n",
       "50%                   32.333159            68.966090  \n",
       "75%                   36.517910           160.321434  \n",
       "max                   50.000000         82331.000000  "
      ]
     },
     "execution_count": 5,
     "metadata": {},
     "output_type": "execute_result"
    }
   ],
   "source": [
    "df_credito.describe()"
   ]
  },
  {
   "cell_type": "markdown",
   "metadata": {},
   "source": [
    "NOTAMOS INICIALMENTE QUE TEMOS MISSING VALUES NAS COLUNAS QUE ACIMA MOSTRAM DIFERENTE DE ZERO (Name, Monthly_Inhand_Salary, Type_of_Loan, Num_of_Delayed_Payment, Num_Credit_Inquiries, Credit_History_Age, Amount_invested_monthly, Monthly_Balance)\n",
    "\n",
    "ISSO NÃO SIGNIFICA QUE NÃO PRECISAMOS OLHAR AS OUTRAS COLUNAS.\n",
    "\n",
    "TEMOS COLUNAS COM TIPO ERRADO E QUE PRECISAM SER CORRIGIDAS. TEMOS COLUNAS ANTES QUE PRECISAM SER TRATADAS PARA AÍ SIM SEREM TROCADAS O TIPO, ENTÃO IREMOS ANALISAR COLUNA A COLUNA."
   ]
  },
  {
   "cell_type": "code",
   "execution_count": 6,
   "metadata": {},
   "outputs": [
    {
     "data": {
      "text/plain": [
       "array(['January', 'February', 'March', 'April', 'May', 'June', 'July',\n",
       "       'August'], dtype=object)"
      ]
     },
     "execution_count": 6,
     "metadata": {},
     "output_type": "execute_result"
    }
   ],
   "source": [
    "df_credito['Month'].unique()"
   ]
  },
  {
   "cell_type": "markdown",
   "metadata": {},
   "source": [
    "DECIDIMOS AJUSTAR (MAP) PARA NÚMERO DO MÊS A COLUNA 'MONTH'"
   ]
  },
  {
   "cell_type": "code",
   "execution_count": 7,
   "metadata": {},
   "outputs": [],
   "source": [
    "mapping_month = {\n",
    "    'January': 1,\n",
    "    'February': 2,\n",
    "    'March': 3,\n",
    "    'April': 4,\n",
    "    'May': 5,\n",
    "    'June': 6,\n",
    "    'July': 7,\n",
    "    'August': 8\n",
    "}\n",
    "\n",
    "# Aplicando o mapeamento à coluna 'Month'\n",
    "df_credito['Month'] = df_credito['Month'].map(mapping_month)"
   ]
  },
  {
   "cell_type": "markdown",
   "metadata": {},
   "source": [
    "PRÓXIMO A ANALISAR É A COLUNA 'NAME', MAS O NOME DA PESSOA NÃO SERÁ UTILIZADA PARA DEFINIR SE A PESSOA TEM OU NÃO UM BOM SCORE DE CRÉDITO"
   ]
  },
  {
   "cell_type": "code",
   "execution_count": 8,
   "metadata": {},
   "outputs": [],
   "source": [
    "df_credito = df_credito.drop(columns=['ID','Name','SSN'],axis=1)"
   ]
  },
  {
   "cell_type": "markdown",
   "metadata": {},
   "source": [
    "AGORA VAMOS ANALISAR A COLUNA IDADE."
   ]
  },
  {
   "cell_type": "code",
   "execution_count": 9,
   "metadata": {},
   "outputs": [],
   "source": [
    "df_credito = df_credito.sort_values(by=['Customer_ID', 'Month'],ascending=True)"
   ]
  },
  {
   "cell_type": "code",
   "execution_count": 10,
   "metadata": {},
   "outputs": [],
   "source": [
    "df_credito = df_credito.sort_values(by=['Customer_ID', 'Month'],ascending=True)\n",
    "\n",
    "df_credito['Age'] = pd.to_numeric(df_credito['Age'], errors='coerce')\n",
    "\n",
    "df_credito['Age'] = df_credito.groupby('Customer_ID')['Age'].transform(lambda x: x.where((x >= 0) & (x <= 100), np.nan))"
   ]
  },
  {
   "cell_type": "code",
   "execution_count": 11,
   "metadata": {},
   "outputs": [
    {
     "name": "stdout",
     "output_type": "stream",
     "text": [
      "[ 14.  15.  16.  17.  18.  19.  20.  21.  22.  23.  24.  25.  26.  27.\n",
      "  28.  29.  30.  31.  32.  33.  34.  35.  36.  37.  38.  39.  40.  41.\n",
      "  42.  43.  44.  45.  46.  47.  48.  49.  50.  51.  52.  53.  54.  55.\n",
      "  56.  95.  99. 100.  nan]\n"
     ]
    }
   ],
   "source": [
    "print(np.sort(df_credito['Age'].unique()))"
   ]
  },
  {
   "cell_type": "markdown",
   "metadata": {},
   "source": [
    "AVALIAMOS QUE AS IDADES PODEM VARIAR DE 14 ATÉ 56. ASSUMIREMOS QUE 95, 99 E 100 TAMBÉM SÃO GAPS E PRECISAM SER TRATADOS"
   ]
  },
  {
   "cell_type": "code",
   "execution_count": 12,
   "metadata": {},
   "outputs": [
    {
     "name": "stdout",
     "output_type": "stream",
     "text": [
      "[14. 15. 16. 17. 18. 19. 20. 21. 22. 23. 24. 25. 26. 27. 28. 29. 30. 31.\n",
      " 32. 33. 34. 35. 36. 37. 38. 39. 40. 41. 42. 43. 44. 45. 46. 47. 48. 49.\n",
      " 50. 51. 52. 53. 54. 55. 56. nan]\n"
     ]
    }
   ],
   "source": [
    "df_credito['Age'] = df_credito.groupby('Customer_ID')['Age'].transform(lambda x: x.where((x >= 14) & (x <= 60), np.nan))\n",
    "print(np.sort(df_credito['Age'].unique()))"
   ]
  },
  {
   "cell_type": "code",
   "execution_count": 13,
   "metadata": {},
   "outputs": [],
   "source": [
    "def preencher_age(df):\n",
    "    df['Age'] = df.groupby('Customer_ID')['Age'].transform(lambda x: x.ffill().bfill())\n",
    "    return df\n",
    "\n",
    "# Aplicando a correção\n",
    "df_credito = preencher_age(df_credito)"
   ]
  },
  {
   "cell_type": "code",
   "execution_count": 14,
   "metadata": {},
   "outputs": [
    {
     "name": "stdout",
     "output_type": "stream",
     "text": [
      "[14. 15. 16. 17. 18. 19. 20. 21. 22. 23. 24. 25. 26. 27. 28. 29. 30. 31.\n",
      " 32. 33. 34. 35. 36. 37. 38. 39. 40. 41. 42. 43. 44. 45. 46. 47. 48. 49.\n",
      " 50. 51. 52. 53. 54. 55. 56.]\n"
     ]
    }
   ],
   "source": [
    "print(np.sort(df_credito['Age'].unique()))"
   ]
  },
  {
   "cell_type": "markdown",
   "metadata": {},
   "source": [
    "AGORA VAMOS PARA OCUPAÇÃO (EMPREGO)"
   ]
  },
  {
   "cell_type": "code",
   "execution_count": 15,
   "metadata": {},
   "outputs": [
    {
     "data": {
      "text/plain": [
       "array(['Lawyer', 'Mechanic', '_______', 'Media_Manager', 'Doctor',\n",
       "       'Journalist', 'Manager', 'Entrepreneur', 'Scientist', 'Accountant',\n",
       "       'Architect', 'Teacher', 'Writer', 'Musician', 'Developer',\n",
       "       'Engineer'], dtype=object)"
      ]
     },
     "execution_count": 15,
     "metadata": {},
     "output_type": "execute_result"
    }
   ],
   "source": [
    "df_credito['Occupation'].unique() #avaliamos quais ocupações existem no dataset"
   ]
  },
  {
   "cell_type": "code",
   "execution_count": 16,
   "metadata": {},
   "outputs": [],
   "source": [
    "#precisamos tratar o '_______', assumindo que este não tem emprego e isso seria 0\n",
    "df_credito['Occupation'] = df_credito['Occupation'].replace('_______',np.nan)\n",
    "\n",
    "def preencher_Occupation(df):\n",
    "    df['Occupation'] = df.groupby('Customer_ID')['Occupation'].transform(lambda x: x.ffill().bfill())\n",
    "    return df\n",
    "\n",
    "# Aplicando a correção\n",
    "df_credito = preencher_Occupation(df_credito)\n",
    "df_credito['Occupation'] = df_credito['Occupation'].str.replace(\"_\",\" \")"
   ]
  },
  {
   "cell_type": "markdown",
   "metadata": {},
   "source": [
    "AGORA VAMOS PARA ANNUAL_INCOME"
   ]
  },
  {
   "cell_type": "code",
   "execution_count": 17,
   "metadata": {},
   "outputs": [],
   "source": [
    "df_credito['Annual_Income'] = df_credito['Annual_Income'].str.replace(\"_\",\"\")\n",
    "df_credito['Annual_Income'] = df_credito['Annual_Income'].astype(float)"
   ]
  },
  {
   "cell_type": "markdown",
   "metadata": {},
   "source": [
    "E ASSIM POR DIANTE"
   ]
  },
  {
   "cell_type": "code",
   "execution_count": 18,
   "metadata": {},
   "outputs": [
    {
     "name": "stderr",
     "output_type": "stream",
     "text": [
      "C:\\Users\\marco\\AppData\\Local\\Temp\\ipykernel_103596\\3749770706.py:78: FutureWarning: Series.fillna with 'method' is deprecated and will raise in a future version. Use obj.ffill() or obj.bfill() instead.\n",
      "  grupo[coluna_idade] = grupo[coluna_idade].fillna(method='ffill').fillna(method='bfill')\n",
      "C:\\Users\\marco\\AppData\\Local\\Temp\\ipykernel_103596\\3749770706.py:82: DeprecationWarning: DataFrameGroupBy.apply operated on the grouping columns. This behavior is deprecated, and in a future version of pandas the grouping columns will be excluded from the operation. Either pass `include_groups=False` to exclude the groupings or explicitly select the grouping columns after groupby to silence this warning.\n",
      "  df = df.groupby(coluna_cliente, group_keys=False).apply(processa_grupo)\n"
     ]
    }
   ],
   "source": [
    "# Função geral para preencher valores nulos com a moda\n",
    "def preenchermoda(df, column):\n",
    "    df[column] = df.groupby('Customer_ID')[column].transform(lambda x: x.mode()[0] if not x.mode().empty else x)\n",
    "    return df\n",
    "\n",
    "# Função geral para preencher valores nulos com a média\n",
    "def preenchermedia(df, column):\n",
    "    df[column] = pd.to_numeric(df[column], errors='coerce')  # Garantindo que a coluna seja numérica\n",
    "    df[column] = df.groupby('Customer_ID')[column].transform(lambda x: x.fillna(x.mean()))\n",
    "    return df\n",
    "\n",
    "# Função geral para substituir valores negativos por zero\n",
    "def trocarnegativoporzero(df, column):\n",
    "    df[column] = df[column].apply(lambda x: 0 if x < 0 else x)\n",
    "    return df\n",
    "\n",
    "# Ajustes específicos para cada coluna usando as funções genéricas\n",
    "df_credito = preenchermedia(df_credito, 'Monthly_Inhand_Salary')\n",
    "df_credito = trocarnegativoporzero(df_credito, 'Num_Bank_Accounts')\n",
    "df_credito = preenchermoda(df_credito, 'Num_Bank_Accounts')\n",
    "df_credito = preenchermoda(df_credito, 'Num_Credit_Card')\n",
    "df_credito = preenchermoda(df_credito, 'Interest_Rate')\n",
    "\n",
    "# Ajustes para 'Num_of_Loan'\n",
    "df_credito['Num_of_Loan'] = df_credito['Num_of_Loan'].str.replace(\"_\", \"\").astype(int)\n",
    "df_credito = trocarnegativoporzero(df_credito, 'Num_of_Loan')\n",
    "df_credito = preenchermoda(df_credito, 'Num_of_Loan')\n",
    "\n",
    "# Ajustes para 'Delay_from_due_date'\n",
    "df_credito = trocarnegativoporzero(df_credito, 'Delay_from_due_date')\n",
    "\n",
    "# Ajustes para 'Num_of_Delayed_Payment'\n",
    "df_credito['Num_of_Delayed_Payment'] = df_credito['Num_of_Delayed_Payment'].str.replace(\"_\", \"\")\n",
    "df_credito = preenchermoda(df_credito, 'Num_of_Delayed_Payment')\n",
    "df_credito['Num_of_Delayed_Payment'] = df_credito['Num_of_Delayed_Payment'].astype(int)\n",
    "df_credito = trocarnegativoporzero(df_credito, 'Num_of_Delayed_Payment')\n",
    "\n",
    "# Ajustes para 'Changed_Credit_Limit'\n",
    "df_credito['Changed_Credit_Limit'] = df_credito['Changed_Credit_Limit'].str.replace(\"_\", \"\")\n",
    "df_credito = preenchermedia(df_credito, 'Changed_Credit_Limit')\n",
    "\n",
    "# Ajustes para 'Credit_Mix'\n",
    "df_credito['Credit_Mix'] = df_credito['Credit_Mix'].replace('_', pd.NA)\n",
    "df_credito = preenchermoda(df_credito, 'Credit_Mix')\n",
    "\n",
    "# Ajustes para 'Outstanding_Debt'\n",
    "df_credito['Outstanding_Debt'] = df_credito['Outstanding_Debt'].str.replace(\"_\", \"\")\n",
    "df_credito = preenchermedia(df_credito, 'Outstanding_Debt')\n",
    "\n",
    "# Ajustes para 'Type_of_Loan'\n",
    "df_credito = preenchermoda(df_credito, 'Type_of_Loan')\n",
    "df_credito['Type_of_Loan'] = df_credito['Type_of_Loan'].fillna(\"Not Specified\")\n",
    "\n",
    "# Ajustes para 'Num_Credit_Inquiries'\n",
    "df_credito = preenchermoda(df_credito, 'Num_Credit_Inquiries')\n",
    "\n",
    "# Função para converter idade de histórico de crédito para meses\n",
    "def converteanosparameses(age):\n",
    "    if isinstance(age, str):\n",
    "        years, months = 0, 0\n",
    "        if 'Years' in age:\n",
    "            years = int(age.split('Years')[0].strip())\n",
    "        if 'Months' in age:\n",
    "            months = int(age.split('and')[1].replace('Months', '').strip())\n",
    "        return years * 12 + months\n",
    "    return np.nan\n",
    "\n",
    "# Função para tratar a coluna com todas as abordagens possíveis\n",
    "def trata_credit_history_age(df, coluna_idade='Credit_History_Age', coluna_cliente='Customer_ID'):\n",
    "    # 1. Converter idade para meses\n",
    "    df[coluna_idade] = df[coluna_idade].apply(converteanosparameses)\n",
    "    \n",
    "    # 2. Interpolação e preenchimento\n",
    "    def processa_grupo(grupo):\n",
    "        # Interpolar valores dentro do grupo\n",
    "        grupo[coluna_idade] = grupo[coluna_idade].interpolate(method='linear')\n",
    "        # Preencher valores nulos no início e no fim do grupo\n",
    "        grupo[coluna_idade] = grupo[coluna_idade].fillna(method='ffill').fillna(method='bfill')\n",
    "        return grupo\n",
    "    \n",
    "    # 3. Aplicar a função de processamento em cada grupo, garantindo que o índice original seja mantido\n",
    "    df = df.groupby(coluna_cliente, group_keys=False).apply(processa_grupo)\n",
    "    \n",
    "    return df\n",
    "\n",
    "# Exemplo de aplicação\n",
    "df_credito = trata_credit_history_age(df_credito)\n",
    "\n",
    "# Ajustes para 'Payment_of_Min_Amount'\n",
    "df_credito = preenchermoda(df_credito, 'Payment_of_Min_Amount')\n",
    "\n",
    "# Ajustes para 'Total_EMI_per_month'\n",
    "df_credito = preenchermoda(df_credito, 'Total_EMI_per_month')\n",
    "\n",
    "# Ajustes para 'Amount_invested_monthly'\n",
    "df_credito = preenchermedia(df_credito, 'Amount_invested_monthly')\n",
    "\n",
    "# Função para substituir valores inválidos de 'Payment_Behaviour'\n",
    "def trocavalorinvalido(df):\n",
    "    df['Payment_Behaviour'] = df.groupby('Customer_ID')['Payment_Behaviour'].transform(lambda x: x.replace(\"!@9#%8\", x.mode()[0]))\n",
    "    return df\n",
    "\n",
    "df_credito = trocavalorinvalido(df_credito)\n",
    "\n",
    "# Ajustes para 'Monthly_Balance'\n",
    "df_credito = preenchermedia(df_credito, 'Monthly_Balance')\n"
   ]
  },
  {
   "cell_type": "code",
   "execution_count": 19,
   "metadata": {},
   "outputs": [
    {
     "name": "stdout",
     "output_type": "stream",
     "text": [
      "<class 'pandas.core.frame.DataFrame'>\n",
      "Index: 83144 entries, 56752 to 82303\n",
      "Data columns (total 25 columns):\n",
      " #   Column                    Non-Null Count  Dtype  \n",
      "---  ------                    --------------  -----  \n",
      " 0   Customer_ID               83144 non-null  object \n",
      " 1   Month                     83144 non-null  int64  \n",
      " 2   Age                       83144 non-null  float64\n",
      " 3   Occupation                83144 non-null  object \n",
      " 4   Annual_Income             83144 non-null  float64\n",
      " 5   Monthly_Inhand_Salary     83144 non-null  float64\n",
      " 6   Num_Bank_Accounts         83144 non-null  int64  \n",
      " 7   Num_Credit_Card           83144 non-null  int64  \n",
      " 8   Interest_Rate             83144 non-null  int64  \n",
      " 9   Num_of_Loan               83144 non-null  int64  \n",
      " 10  Type_of_Loan              83144 non-null  object \n",
      " 11  Delay_from_due_date       83144 non-null  int64  \n",
      " 12  Num_of_Delayed_Payment    83144 non-null  int64  \n",
      " 13  Changed_Credit_Limit      83144 non-null  float64\n",
      " 14  Num_Credit_Inquiries      83144 non-null  float64\n",
      " 15  Credit_Mix                83144 non-null  object \n",
      " 16  Outstanding_Debt          83144 non-null  float64\n",
      " 17  Credit_Utilization_Ratio  83144 non-null  float64\n",
      " 18  Credit_History_Age        83144 non-null  float64\n",
      " 19  Payment_of_Min_Amount     83144 non-null  object \n",
      " 20  Total_EMI_per_month       83144 non-null  float64\n",
      " 21  Amount_invested_monthly   83144 non-null  float64\n",
      " 22  Payment_Behaviour         83144 non-null  object \n",
      " 23  Monthly_Balance           83144 non-null  float64\n",
      " 24  Credit_Score              83144 non-null  object \n",
      "dtypes: float64(11), int64(7), object(7)\n",
      "memory usage: 16.5+ MB\n"
     ]
    }
   ],
   "source": [
    "df_credito.info()"
   ]
  },
  {
   "cell_type": "markdown",
   "metadata": {},
   "source": [
    "CORRIGINDO OS TYPES DOS DADOS, CASO NECESSÁRIO"
   ]
  },
  {
   "cell_type": "code",
   "execution_count": 20,
   "metadata": {},
   "outputs": [],
   "source": [
    "df_credito['Age'] = df_credito['Age'].astype(int)\n",
    "df_credito['Num_Credit_Inquiries'] = df_credito['Num_Credit_Inquiries'].astype(int)\n",
    "df_credito['Credit_History_Age'] = df_credito['Credit_History_Age'].astype(int)"
   ]
  },
  {
   "cell_type": "code",
   "execution_count": 23,
   "metadata": {},
   "outputs": [
    {
     "data": {
      "text/plain": [
       "Customer_ID                 0\n",
       "Month                       0\n",
       "Age                         0\n",
       "Occupation                  0\n",
       "Annual_Income               0\n",
       "Monthly_Inhand_Salary       0\n",
       "Num_Bank_Accounts           0\n",
       "Num_Credit_Card             0\n",
       "Interest_Rate               0\n",
       "Num_of_Loan                 0\n",
       "Type_of_Loan                0\n",
       "Delay_from_due_date         0\n",
       "Num_of_Delayed_Payment      0\n",
       "Changed_Credit_Limit        0\n",
       "Num_Credit_Inquiries        0\n",
       "Credit_Mix                  0\n",
       "Outstanding_Debt            0\n",
       "Credit_Utilization_Ratio    0\n",
       "Credit_History_Age          0\n",
       "Payment_of_Min_Amount       0\n",
       "Total_EMI_per_month         0\n",
       "Amount_invested_monthly     0\n",
       "Payment_Behaviour           0\n",
       "Monthly_Balance             0\n",
       "Credit_Score                0\n",
       "dtype: int64"
      ]
     },
     "execution_count": 23,
     "metadata": {},
     "output_type": "execute_result"
    }
   ],
   "source": [
    "#checando novamente se há missing data\n",
    "\n",
    "df_credito.isnull().sum()"
   ]
  }
 ],
 "metadata": {
  "kernelspec": {
   "display_name": "Python 3",
   "language": "python",
   "name": "python3"
  },
  "language_info": {
   "codemirror_mode": {
    "name": "ipython",
    "version": 3
   },
   "file_extension": ".py",
   "mimetype": "text/x-python",
   "name": "python",
   "nbconvert_exporter": "python",
   "pygments_lexer": "ipython3",
   "version": "3.11.9"
  }
 },
 "nbformat": 4,
 "nbformat_minor": 2
}
